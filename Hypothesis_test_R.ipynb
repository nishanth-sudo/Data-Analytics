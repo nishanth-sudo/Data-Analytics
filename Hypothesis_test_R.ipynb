{
  "nbformat": 4,
  "nbformat_minor": 0,
  "metadata": {
    "colab": {
      "provenance": []
    },
    "kernelspec": {
      "name": "ir",
      "display_name": "R"
    },
    "language_info": {
      "name": "R"
    }
  },
  "cells": [
    {
      "cell_type": "code",
      "execution_count": 1,
      "metadata": {
        "colab": {
          "base_uri": "https://localhost:8080/",
          "height": 208
        },
        "id": "VGeSBM7SrrdG",
        "outputId": "dadc0498-d7d9-4c50-9f4c-1f4fdca4a94a"
      },
      "outputs": [
        {
          "output_type": "display_data",
          "data": {
            "text/plain": [
              "\n",
              "\tOne Sample t-test\n",
              "\n",
              "data:  x\n",
              "t = -44.984, df = 99, p-value < 2.2e-16\n",
              "alternative hypothesis: true mean is not equal to 5\n",
              "95 percent confidence interval:\n",
              " -0.1695499  0.2672344\n",
              "sample estimates:\n",
              " mean of x \n",
              "0.04884223 \n"
            ]
          },
          "metadata": {}
        }
      ],
      "source": [
        "x<-rnorm(100)\n",
        "t.test(x,mu=5)"
      ]
    },
    {
      "cell_type": "code",
      "source": [
        "x1<-rnorm(100)\n",
        "y1<-rnorm(100)\n",
        "t.test(x1,y1)"
      ],
      "metadata": {
        "colab": {
          "base_uri": "https://localhost:8080/",
          "height": 208
        },
        "id": "Uvr-lgKGsBQS",
        "outputId": "20a4c0fa-ee29-4849-f3c2-274127b3eafa"
      },
      "execution_count": 2,
      "outputs": [
        {
          "output_type": "display_data",
          "data": {
            "text/plain": [
              "\n",
              "\tWelch Two Sample t-test\n",
              "\n",
              "data:  x1 and y1\n",
              "t = -0.013156, df = 195.56, p-value = 0.9895\n",
              "alternative hypothesis: true difference in means is not equal to 0\n",
              "95 percent confidence interval:\n",
              " -0.2834393  0.2796828\n",
              "sample estimates:\n",
              "  mean of x   mean of y \n",
              "-0.08757128 -0.08569300 \n"
            ]
          },
          "metadata": {}
        }
      ]
    },
    {
      "cell_type": "code",
      "source": [
        "x2<-rnorm(100)\n",
        "t.test(x2,mu=2,alternative='greater')"
      ],
      "metadata": {
        "colab": {
          "base_uri": "https://localhost:8080/",
          "height": 208
        },
        "id": "EsbD2GP_sKb2",
        "outputId": "24f70cb9-6fbf-4763-e394-b6bf984b5b9c"
      },
      "execution_count": 3,
      "outputs": [
        {
          "output_type": "display_data",
          "data": {
            "text/plain": [
              "\n",
              "\tOne Sample t-test\n",
              "\n",
              "data:  x2\n",
              "t = -23.676, df = 99, p-value = 1\n",
              "alternative hypothesis: true mean is greater than 2\n",
              "95 percent confidence interval:\n",
              " -0.2041884        Inf\n",
              "sample estimates:\n",
              "  mean of x \n",
              "-0.05974129 \n"
            ]
          },
          "metadata": {}
        }
      ]
    },
    {
      "cell_type": "code",
      "source": [
        "x3<-rnorm(100)\n",
        "wilcox.test(x3,exact=FALSE)"
      ],
      "metadata": {
        "colab": {
          "base_uri": "https://localhost:8080/",
          "height": 121
        },
        "id": "qmRtG-shsTsO",
        "outputId": "7fb79127-29bb-4be4-ae62-91695413aa42"
      },
      "execution_count": 4,
      "outputs": [
        {
          "output_type": "display_data",
          "data": {
            "text/plain": [
              "\n",
              "\tWilcoxon signed rank test with continuity correction\n",
              "\n",
              "data:  x3\n",
              "V = 2870, p-value = 0.2362\n",
              "alternative hypothesis: true location is not equal to 0\n"
            ]
          },
          "metadata": {}
        }
      ]
    },
    {
      "cell_type": "code",
      "source": [
        "cor.test(mtcars$mpg,mtcars$hp)"
      ],
      "metadata": {
        "colab": {
          "base_uri": "https://localhost:8080/",
          "height": 208
        },
        "id": "B_ap9QVBsced",
        "outputId": "a307df20-3444-40bd-f9c9-0425b771a872"
      },
      "execution_count": 5,
      "outputs": [
        {
          "output_type": "display_data",
          "data": {
            "text/plain": [
              "\n",
              "\tPearson's product-moment correlation\n",
              "\n",
              "data:  mtcars$mpg and mtcars$hp\n",
              "t = -6.7424, df = 30, p-value = 1.788e-07\n",
              "alternative hypothesis: true correlation is not equal to 0\n",
              "95 percent confidence interval:\n",
              " -0.8852686 -0.5860994\n",
              "sample estimates:\n",
              "       cor \n",
              "-0.7761684 \n"
            ]
          },
          "metadata": {}
        }
      ]
    }
  ]
}